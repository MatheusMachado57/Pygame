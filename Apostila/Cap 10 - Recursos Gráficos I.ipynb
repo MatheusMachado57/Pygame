{
 "cells": [
  {
   "cell_type": "code",
   "execution_count": 2,
   "metadata": {},
   "outputs": [
    {
     "name": "stdout",
     "output_type": "stream",
     "text": [
      "pygame 1.9.6\n",
      "Hello from the pygame community. https://www.pygame.org/contribute.html\n"
     ]
    },
    {
     "ename": "SystemExit",
     "evalue": "",
     "output_type": "error",
     "traceback": [
      "An exception has occurred, use %tb to see the full traceback.\n",
      "\u001b[1;31mSystemExit\u001b[0m\n"
     ]
    },
    {
     "name": "stderr",
     "output_type": "stream",
     "text": [
      "C:\\Users\\mathe\\anaconda3\\lib\\site-packages\\IPython\\core\\interactiveshell.py:3339: UserWarning: To exit: use 'exit', 'quit', or Ctrl-D.\n",
      "  warn(\"To exit: use 'exit', 'quit', or Ctrl-D.\", stacklevel=1)\n"
     ]
    }
   ],
   "source": [
    "import pygame, sys\n",
    "from pygame.locals import *\n",
    "\n",
    "# inicia o pygame\n",
    "pygame.init()\n",
    "\n",
    "# inicia a janela\n",
    "windowSurface = pygame.display.set_mode((500, 400), 0, 32)\n",
    "pygame.display.set_caption(\"Hello world!\")\n",
    "\n",
    "# inicia as cores utilizadas\n",
    "BLACK = (0, 0, 0)\n",
    "WHITE = (255, 255, 255)\n",
    "RED = (255, 0, 0)\n",
    "GREEN = (0, 255, 0)\n",
    "BLUE = (0, 0, 255)\n",
    "\n",
    "# inicia as fontes\n",
    "basicFont = pygame.font.SysFont(None, 48)\n",
    "\n",
    "# inicia o texto\n",
    "text = basicFont.render(\"Hello world!\", True, WHITE, BLUE)\n",
    "textRect = text.get_rect()\n",
    "textRect.centerx = windowSurface.get_rect().centerx\n",
    "textRect.centery = windowSurface.get_rect().centery\n",
    "\n",
    "# desenha o fundo branco\n",
    "windowSurface.fill(WHITE)\n",
    "\n",
    "# desenha um poligono verde na superficie\n",
    "pygame.draw.polygon(windowSurface, GREEN, ((146, 0), (291, 106), (236, 277), (56, 277), (0, 106)))\n",
    "\n",
    "# desenha algumas linhas azuis na superficie\n",
    "pygame.draw.line(windowSurface, BLUE, (60, 60), (120, 60), 4)\n",
    "pygame.draw.line(windowSurface, BLUE, (120, 60), (60, 120))\n",
    "pygame.draw.line(windowSurface, BLUE, (60, 120), (120, 120), 4)\n",
    "\n",
    "# desenha um circulo azul na superficie\n",
    "pygame.draw.circle(windowSurface, BLUE, (300, 50), 20, 0)\n",
    "\n",
    "# desenha uma elipse vermelha na superficie\n",
    "pygame.draw.ellipse(windowSurface, RED, (300, 250, 40, 80), 1)\n",
    "\n",
    "# desenha o retangulo do fundo do texto na superficie\n",
    "pygame.draw.rect(windowSurface, RED, (textRect.left - 20, textRect.top - 20, textRect.width + 40, textRect.height + 40))\n",
    "\n",
    "#Você pode consultar informações de como utilizar o Pygame através do site do desenvolvedor: http://pygame.org/docs/ref/.82 10. INTRODUÇÃO À GRÁFICOS E ANIMAÇÃO (PARTE 1)\n",
    "# obtem um array de pixel da superficie\n",
    "pixArray = pygame.PixelArray(windowSurface)\n",
    "pixArray[480][380] = BLACK\n",
    "del pixArray\n",
    "\n",
    "# desenha o texto na janela\n",
    "windowSurface.blit(text, textRect)\n",
    "\n",
    "# desenha a janela na tela\n",
    "pygame.display.update()\n",
    "\n",
    "# roda o loop do jogo\n",
    "while True:\n",
    "    for event in pygame.event.get():\n",
    "        if event.type == QUIT:\n",
    "            pygame.quit()\n",
    "            sys.exit()\n",
    "            "
   ]
  },
  {
   "cell_type": "code",
   "execution_count": null,
   "metadata": {},
   "outputs": [],
   "source": []
  }
 ],
 "metadata": {
  "kernelspec": {
   "display_name": "Python 3",
   "language": "python",
   "name": "python3"
  },
  "language_info": {
   "codemirror_mode": {
    "name": "ipython",
    "version": 3
   },
   "file_extension": ".py",
   "mimetype": "text/x-python",
   "name": "python",
   "nbconvert_exporter": "python",
   "pygments_lexer": "ipython3",
   "version": "3.7.6"
  }
 },
 "nbformat": 4,
 "nbformat_minor": 4
}

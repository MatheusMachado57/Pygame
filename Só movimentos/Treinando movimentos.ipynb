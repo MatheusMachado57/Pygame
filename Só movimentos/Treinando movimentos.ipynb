{
 "cells": [
  {
   "cell_type": "code",
   "execution_count": 2,
   "metadata": {},
   "outputs": [
    {
     "name": "stdout",
     "output_type": "stream",
     "text": [
      "[[36.0, 30.25, 25.0, 20.25, 16.0, 12.25, 9.0, 6.25, 4.0, 2.25, 1.0, 0.25, 0.0, -0.25, -1.0, -2.25, -4.0, -6.25, -9.0, -12.25, -16.0, -20.25, -25.0, -30.25, -36.0]]\n",
      "[[36.0, 30.25, 25.0, 20.25, 16.0, 12.25, 9.0, 6.25, 4.0, 2.25, 1.0, 0.25, 0.0, -0.25, -1.0, -2.25, -4.0, -6.25, -9.0, -12.25, -16.0, -20.25, -25.0, -30.25, -36.0]]\n",
      "[[36.0, 30.25, 25.0, 20.25, 16.0, 12.25, 9.0, 6.25, 4.0, 2.25, 1.0, 0.25, 0.0, -0.25, -1.0, -2.25, -4.0, -6.25, -9.0, -12.25, -16.0, -20.25, -25.0, -30.25, -36.0]]\n",
      "[[36.0, 30.25, 25.0, 20.25, 16.0, 12.25, 9.0, 6.25, 4.0, 2.25, 1.0, 0.25, 0.0, -0.25, -1.0, -2.25, -4.0, -6.25, -9.0, -12.25, -16.0, -20.25, -25.0, -30.25, -36.0]]\n",
      "[[36.0, 30.25, 25.0, 20.25, 16.0, 12.25, 9.0, 6.25, 4.0, 2.25, 1.0, 0.25, 0.0, -0.25, -1.0, -2.25, -4.0, -6.25, -9.0, -12.25, -16.0, -20.25, -25.0, -30.25, -36.0]]\n",
      "[[36.0, 30.25, 25.0, 20.25, 16.0, 12.25, 9.0, 6.25, 4.0, 2.25, 1.0, 0.25, 0.0, -0.25, -1.0, -2.25, -4.0, -6.25, -9.0, -12.25, -16.0, -20.25, -25.0, -30.25, -36.0]]\n",
      "[[36.0, 30.25, 25.0, 20.25, 16.0, 12.25, 9.0, 6.25, 4.0, 2.25, 1.0, 0.25, 0.0, -0.25, -1.0, -2.25, -4.0, -6.25, -9.0, -12.25, -16.0, -20.25, -25.0, -30.25, -36.0]]\n",
      "[[36.0, 30.25, 25.0, 20.25, 16.0, 12.25, 9.0, 6.25, 4.0, 2.25, 1.0, 0.25, 0.0, -0.25, -1.0, -2.25, -4.0, -6.25, -9.0, -12.25, -16.0, -20.25, -25.0, -30.25, -36.0]]\n",
      "[[36.0, 30.25, 25.0, 20.25, 16.0, 12.25, 9.0, 6.25, 4.0, 2.25, 1.0, 0.25, 0.0, -0.25, -1.0, -2.25, -4.0, -6.25, -9.0, -12.25, -16.0, -20.25, -25.0, -30.25, -36.0]]\n",
      "[[36.0, 30.25, 25.0, 20.25, 16.0, 12.25, 9.0, 6.25, 4.0, 2.25, 1.0, 0.25, 0.0, -0.25, -1.0, -2.25, -4.0, -6.25, -9.0, -12.25, -16.0, -20.25, -25.0, -30.25, -36.0]]\n",
      "[[36.0, 30.25, 25.0, 20.25, 16.0, 12.25, 9.0, 6.25, 4.0, 2.25, 1.0, 0.25, 0.0, -0.25, -1.0, -2.25, -4.0, -6.25, -9.0, -12.25, -16.0, -20.25, -25.0, -30.25, -36.0]]\n",
      "[[36.0, 30.25, 25.0, 20.25, 16.0, 12.25, 9.0, 6.25, 4.0, 2.25, 1.0, 0.25, 0.0, -0.25, -1.0, -2.25, -4.0, -6.25, -9.0, -12.25, -16.0, -20.25, -25.0, -30.25, -36.0]]\n",
      "[[36.0, 30.25, 25.0, 20.25, 16.0, 12.25, 9.0, 6.25, 4.0, 2.25, 1.0, 0.25, 0.0, -0.25, -1.0, -2.25, -4.0, -6.25, -9.0, -12.25, -16.0, -20.25, -25.0, -30.25, -36.0]]\n",
      "[[36.0, 30.25, 25.0, 20.25, 16.0, 12.25, 9.0, 6.25, 4.0, 2.25, 1.0, 0.25, 0.0, -0.25, -1.0, -2.25, -4.0, -6.25, -9.0, -12.25, -16.0, -20.25, -25.0, -30.25, -36.0]]\n",
      "[[36.0, 30.25, 25.0, 20.25, 16.0, 12.25, 9.0, 6.25, 4.0, 2.25, 1.0, 0.25, 0.0, -0.25, -1.0, -2.25, -4.0, -6.25, -9.0, -12.25, -16.0, -20.25, -25.0, -30.25, -36.0]]\n",
      "[[36.0, 30.25, 25.0, 20.25, 16.0, 12.25, 9.0, 6.25, 4.0, 2.25, 1.0, 0.25, 0.0, -0.25, -1.0, -2.25, -4.0, -6.25, -9.0, -12.25, -16.0, -20.25, -25.0, -30.25, -36.0]]\n",
      "[[36.0, 30.25, 25.0, 20.25, 16.0, 12.25, 9.0, 6.25, 4.0, 2.25, 1.0, 0.25, 0.0, -0.25, -1.0, -2.25, -4.0, -6.25, -9.0, -12.25, -16.0, -20.25, -25.0, -30.25, -36.0]]\n"
     ]
    },
    {
     "ename": "error",
     "evalue": "video system not initialized",
     "output_type": "error",
     "traceback": [
      "\u001b[1;31m---------------------------------------------------------------------------\u001b[0m",
      "\u001b[1;31merror\u001b[0m                                     Traceback (most recent call last)",
      "\u001b[1;32m<ipython-input-2-84d474420bfe>\u001b[0m in \u001b[0;36m<module>\u001b[1;34m\u001b[0m\n\u001b[0;32m    156\u001b[0m     \u001b[1;31m# comandos do jogador:\u001b[0m\u001b[1;33m\u001b[0m\u001b[1;33m\u001b[0m\u001b[1;33m\u001b[0m\u001b[0m\n\u001b[0;32m    157\u001b[0m \u001b[1;33m\u001b[0m\u001b[0m\n\u001b[1;32m--> 158\u001b[1;33m     \u001b[0mcomandos\u001b[0m \u001b[1;33m=\u001b[0m \u001b[0mpygame\u001b[0m\u001b[1;33m.\u001b[0m\u001b[0mkey\u001b[0m\u001b[1;33m.\u001b[0m\u001b[0mget_pressed\u001b[0m\u001b[1;33m(\u001b[0m\u001b[1;33m)\u001b[0m\u001b[1;33m\u001b[0m\u001b[1;33m\u001b[0m\u001b[0m\n\u001b[0m\u001b[0;32m    159\u001b[0m     \u001b[1;32mif\u001b[0m \u001b[0mcomandos\u001b[0m\u001b[1;33m[\u001b[0m\u001b[0mpygame\u001b[0m\u001b[1;33m.\u001b[0m\u001b[0mK_LEFT\u001b[0m\u001b[1;33m]\u001b[0m\u001b[1;33m:\u001b[0m  \u001b[0mbird\u001b[0m\u001b[1;33m.\u001b[0m\u001b[0mgo_back\u001b[0m\u001b[1;33m(\u001b[0m\u001b[1;33m)\u001b[0m\u001b[1;33m\u001b[0m\u001b[1;33m\u001b[0m\u001b[0m\n\u001b[0;32m    160\u001b[0m     \u001b[1;32mif\u001b[0m \u001b[0mcomandos\u001b[0m\u001b[1;33m[\u001b[0m\u001b[0mpygame\u001b[0m\u001b[1;33m.\u001b[0m\u001b[0mK_RIGHT\u001b[0m\u001b[1;33m]\u001b[0m\u001b[1;33m:\u001b[0m \u001b[0mbird\u001b[0m\u001b[1;33m.\u001b[0m\u001b[0mgo_on\u001b[0m\u001b[1;33m(\u001b[0m\u001b[1;33m)\u001b[0m\u001b[1;33m\u001b[0m\u001b[1;33m\u001b[0m\u001b[0m\n",
      "\u001b[1;31merror\u001b[0m: video system not initialized"
     ]
    }
   ],
   "source": [
    "import pygame, random\n",
    "from pygame.locals import *\n",
    "\n",
    "SCREEN_WIDTH = 1000\n",
    "SCREEN_HEIGHT = 600\n",
    "\n",
    "GROUND_WIDTH = SCREEN_WIDTH\n",
    "GROUND_HEIGHT = SCREEN_HEIGHT - 30\n",
    "\n",
    "box_rect1 = [500, 550]\n",
    "box_rect2 = [GROUND_HEIGHT - 100, GROUND_HEIGHT - 100]\n",
    "\n",
    "\n",
    "fundo = pygame.display.set_mode((SCREEN_WIDTH,SCREEN_HEIGHT))\n",
    "\n",
    "class Ground(pygame.sprite.Sprite):\n",
    "    def __init__(self):\n",
    "        pygame.sprite.Sprite.__init__(self)\n",
    "\n",
    "        self.image = pygame.image.load('layer-5.png').convert_alpha()\n",
    "        self.image = pygame.transform.scale(self.image, (SCREEN_WIDTH, SCREEN_HEIGHT))\n",
    "        self.mask = pygame.mask.from_surface(self.image)\n",
    "        self.rect = self.image.get_rect()\n",
    "\n",
    "class Q1(pygame.sprite.Sprite):\n",
    "\n",
    "    def __init__(self):\n",
    "        pygame.sprite.Sprite.__init__(self)\n",
    "        self.images = [pygame.image.load('verde.png').convert_alpha()]\n",
    "        self.current_image = 0\n",
    "        self.image = pygame.image.load('verde.png').convert_alpha()\n",
    "        self.rect = self.image.get_rect()\n",
    "        \n",
    "        self.falling = True\n",
    "        self.onGround = True\n",
    "        \n",
    "        self.velocity = 0\n",
    "        \n",
    "        self.rect[0] = 10\n",
    "        self.rect[1] = GROUND_HEIGHT - 100\n",
    "\n",
    "    def update(self):\n",
    "        self.image = self.images[self.current_image]\n",
    "\n",
    "        # Update height\n",
    "        if (pygame.sprite.groupcollide(bird_group, ground_group, False, False, pygame.sprite.collide_mask) or\n",
    "            pygame.sprite.groupcollide(bird_group, box_group, False, False, pygame.sprite.collide_mask) or\n",
    "            isjump):  \n",
    "             return\n",
    "        \n",
    "        if self.rect[1] > GROUND_HEIGHT - 100: self.rect[1] -= 5\n",
    "        else: self.rect[1] += 5\n",
    "    \n",
    "    def go_on(self): \n",
    "        if self.rect[0] < 900: \n",
    "            self.rect[0] += 5\n",
    "        if ((abs(self.rect[0] - box.rect[0]) < 50 and abs(self.rect[1] - box.rect[1]) < 50)):\n",
    "             self.rect[0] -= 5\n",
    "    \n",
    "    def go_back(self): \n",
    "        if self.rect[0] > 0: \n",
    "            self.rect[0] -= 5\n",
    "        if abs(self.rect[0] - box.rect[0]) < 50 and abs(self.rect[1] - box.rect[1]) < 50:\n",
    "            self.rect[0] += 5\n",
    "            \n",
    "class Q2(pygame.sprite.Sprite):\n",
    "\n",
    "    def __init__(self):\n",
    "        pygame.sprite.Sprite.__init__(self)\n",
    "        self.images = [pygame.image.load('marrom.png').convert_alpha()]\n",
    "        self.current_image = 0\n",
    "        self.image = pygame.image.load('marrom.png').convert_alpha()\n",
    "        self.mask = pygame.mask.from_surface(self.image)\n",
    "        self.rect = self.image.get_rect()\n",
    "        self.rect[0] = 400\n",
    "        self.rect[1] = GROUND_HEIGHT - 100\n",
    "\n",
    "    def update(self):\n",
    "        self.image = self.images[self.current_image]\n",
    "\n",
    "class Q3(pygame.sprite.Sprite):\n",
    "    def __init__(self):\n",
    "        pygame.sprite.Sprite.__init__(self)\n",
    "        self.images = [pygame.image.load('vermelho.png').convert_alpha()]\n",
    "        self.current_image = 0\n",
    "        self.image = pygame.image.load('vermelho.png').convert_alpha()\n",
    "        self.mask = pygame.mask.from_surface(self.image)\n",
    "        self.rect = self.image.get_rect()\n",
    "        self.rect[0] = 400\n",
    "        self.rect[1] = GROUND_HEIGHT - 100\n",
    "\n",
    "    def update(self):\n",
    "        self.image = self.images[self.current_image]\n",
    "        \n",
    "class Q4(pygame.sprite.Sprite):\n",
    "    def __init__(self):\n",
    "        pygame.sprite.Sprite.__init__(self)\n",
    "        self.images = [pygame.image.load('amarela.png').convert_alpha()]\n",
    "        self.current_image = 0\n",
    "        self.image = pygame.image.load('amarela.png').convert_alpha()\n",
    "        self.image = pygame.transform.scale(self.image, (scala_qw, scala_qh))\n",
    "        self.mask = pygame.mask.from_surface(self.image)\n",
    "        self.rect = self.image.get_rect()\n",
    "        self.rect[0] = 500\n",
    "        self.rect[1] = GROUND_HEIGHT - 100\n",
    "\n",
    "    def update(self):\n",
    "        self.image = self.images[self.current_image]\n",
    "\n",
    "pygame.init()\n",
    "screen = pygame.display.set_mode((SCREEN_WIDTH, SCREEN_HEIGHT))\n",
    "\n",
    "# Terreno\n",
    "ground_group = pygame.sprite.Group()\n",
    "ground = Ground()\n",
    "ground_group.add(ground)\n",
    "\n",
    "# Jogador\n",
    "bird_group = pygame.sprite.Group()\n",
    "bird = Q1()\n",
    "bird_group.add(bird)\n",
    "\n",
    "# Inimigo\n",
    "box_group = pygame.sprite.Group()\n",
    "box = Q2()\n",
    "box_group.add(box)\n",
    "\n",
    "clock = pygame.time.Clock()    \n",
    "\n",
    "# Extras\n",
    "my_direction = \"Right\"\n",
    "\n",
    "# variáveis da desgraça do pulo:\n",
    "isjump = False\n",
    "jumpcount = 12\n",
    "v = []\n",
    "\n",
    "while jumpcount >= -12:    \n",
    "    if jumpcount < 0: neg = -1\n",
    "    else: neg = 1\n",
    "    v.append((jumpcount**2)*0.5*neg/2)\n",
    "    jumpcount -= 1\n",
    "    \n",
    "jumpcount = 12\n",
    "i = 0\n",
    "j = 0\n",
    "s = []\n",
    "\n",
    "while True:\n",
    "    clock.tick(50)\n",
    "    \n",
    "    for event in pygame.event.get():\n",
    "        if event.type == QUIT:\n",
    "            pygame.quit()\n",
    "        \n",
    "    # comandos do jogador:    \n",
    "    \n",
    "    comandos = pygame.key.get_pressed()\n",
    "    if comandos[pygame.K_LEFT]:  bird.go_back()\n",
    "    if comandos[pygame.K_RIGHT]: bird.go_on()  \n",
    "    \n",
    "    # pulo de merda\n",
    "    if not(isjump):\n",
    "        if comandos[pygame.K_SPACE]:\n",
    "            isjump = True\n",
    "            s.append(v)\n",
    "    else:\n",
    "        if jumpcount >= -12: \n",
    "            if jumpcount < 0: neg = -1\n",
    "            else: neg = 1    \n",
    "            bird.rect[1] -= s[j][i]\n",
    "            if pygame.sprite.groupcollide(bird_group, box_group, False, False, pygame.sprite.collide_mask):\n",
    "                    bird.rect[1] += s[j][i]\n",
    "            jumpcount -= 1\n",
    "            i += 1\n",
    "        else: \n",
    "            i = 0\n",
    "            j = 0\n",
    "            print(s)\n",
    "            s.remove(v)\n",
    "            jumpcount = 12\n",
    "            isjump = False\n",
    "        \n",
    "    fundo.fill((0,0,0))\n",
    "  \n",
    "    bird_group.update()\n",
    "    box_group.update()\n",
    "    \n",
    "    box_group.draw(screen)\n",
    "    bird_group.draw(screen)\n",
    "    \n",
    "    ground_group.draw(screen)\n",
    "    pygame.display.update()\n",
    "    "
   ]
  },
  {
   "cell_type": "code",
   "execution_count": null,
   "metadata": {},
   "outputs": [],
   "source": []
  },
  {
   "cell_type": "code",
   "execution_count": 58,
   "metadata": {},
   "outputs": [],
   "source": [
    "#help(pygame.sprite.groupcollide)"
   ]
  },
  {
   "cell_type": "code",
   "execution_count": 58,
   "metadata": {},
   "outputs": [],
   "source": [
    "#help(pygame.sprite.collide_rect)"
   ]
  },
  {
   "cell_type": "code",
   "execution_count": 59,
   "metadata": {},
   "outputs": [],
   "source": [
    "#help(pygame.sprite.collide_circle)"
   ]
  },
  {
   "cell_type": "code",
   "execution_count": 60,
   "metadata": {},
   "outputs": [],
   "source": [
    "#help(pygame.sprite.collide_mask)"
   ]
  },
  {
   "cell_type": "code",
   "execution_count": 61,
   "metadata": {},
   "outputs": [],
   "source": [
    "#help(pygame.mask.from_surface)"
   ]
  },
  {
   "cell_type": "code",
   "execution_count": 62,
   "metadata": {},
   "outputs": [],
   "source": [
    "#help(pygame.sprite.spritecollideany)"
   ]
  },
  {
   "cell_type": "code",
   "execution_count": 63,
   "metadata": {},
   "outputs": [],
   "source": [
    "#help(pygame.sprite.callable)"
   ]
  },
  {
   "cell_type": "code",
   "execution_count": 64,
   "metadata": {},
   "outputs": [],
   "source": [
    "#help(pygame.sprite.get_ticks)"
   ]
  },
  {
   "cell_type": "code",
   "execution_count": 65,
   "metadata": {},
   "outputs": [],
   "source": [
    "#help(pygame.sprite.DirtySprite)"
   ]
  },
  {
   "cell_type": "code",
   "execution_count": 66,
   "metadata": {},
   "outputs": [],
   "source": [
    "#help(pygame.sprite.AbstractGroup)"
   ]
  },
  {
   "cell_type": "code",
   "execution_count": 67,
   "metadata": {},
   "outputs": [],
   "source": [
    "#help(pygame.sprite.RenderUpdates)"
   ]
  },
  {
   "cell_type": "code",
   "execution_count": null,
   "metadata": {},
   "outputs": [],
   "source": []
  }
 ],
 "metadata": {
  "kernelspec": {
   "display_name": "Python 3",
   "language": "python",
   "name": "python3"
  },
  "language_info": {
   "codemirror_mode": {
    "name": "ipython",
    "version": 3
   },
   "file_extension": ".py",
   "mimetype": "text/x-python",
   "name": "python",
   "nbconvert_exporter": "python",
   "pygments_lexer": "ipython3",
   "version": "3.7.6"
  }
 },
 "nbformat": 4,
 "nbformat_minor": 4
}

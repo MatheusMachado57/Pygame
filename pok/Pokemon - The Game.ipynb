{
 "cells": [
  {
   "cell_type": "code",
   "execution_count": 1,
   "metadata": {},
   "outputs": [
    {
     "name": "stdout",
     "output_type": "stream",
     "text": [
      "pygame 1.9.6\n",
      "Hello from the pygame community. https://www.pygame.org/contribute.html\n"
     ]
    },
    {
     "ename": "error",
     "evalue": "display Surface quit",
     "output_type": "error",
     "traceback": [
      "\u001b[1;31m---------------------------------------------------------------------------\u001b[0m",
      "\u001b[1;31merror\u001b[0m                                     Traceback (most recent call last)",
      "\u001b[1;32m<ipython-input-1-def0be8161e2>\u001b[0m in \u001b[0;36m<module>\u001b[1;34m\u001b[0m\n\u001b[0;32m     75\u001b[0m     \u001b[0mbird_group\u001b[0m\u001b[1;33m.\u001b[0m\u001b[0mupdate\u001b[0m\u001b[1;33m(\u001b[0m\u001b[1;33m)\u001b[0m\u001b[1;33m\u001b[0m\u001b[1;33m\u001b[0m\u001b[0m\n\u001b[0;32m     76\u001b[0m \u001b[1;33m\u001b[0m\u001b[0m\n\u001b[1;32m---> 77\u001b[1;33m     \u001b[0mground_group\u001b[0m\u001b[1;33m.\u001b[0m\u001b[0mdraw\u001b[0m\u001b[1;33m(\u001b[0m\u001b[0mscreen\u001b[0m\u001b[1;33m)\u001b[0m\u001b[1;33m\u001b[0m\u001b[1;33m\u001b[0m\u001b[0m\n\u001b[0m\u001b[0;32m     78\u001b[0m     \u001b[0mbird_group\u001b[0m\u001b[1;33m.\u001b[0m\u001b[0mdraw\u001b[0m\u001b[1;33m(\u001b[0m\u001b[0mscreen\u001b[0m\u001b[1;33m)\u001b[0m\u001b[1;33m\u001b[0m\u001b[1;33m\u001b[0m\u001b[0m\n\u001b[0;32m     79\u001b[0m \u001b[1;33m\u001b[0m\u001b[0m\n",
      "\u001b[1;32m~\\anaconda3\\lib\\site-packages\\pygame\\sprite.py\u001b[0m in \u001b[0;36mdraw\u001b[1;34m(self, surface)\u001b[0m\n\u001b[0;32m    474\u001b[0m         \u001b[0msurface_blit\u001b[0m \u001b[1;33m=\u001b[0m \u001b[0msurface\u001b[0m\u001b[1;33m.\u001b[0m\u001b[0mblit\u001b[0m\u001b[1;33m\u001b[0m\u001b[1;33m\u001b[0m\u001b[0m\n\u001b[0;32m    475\u001b[0m         \u001b[1;32mfor\u001b[0m \u001b[0mspr\u001b[0m \u001b[1;32min\u001b[0m \u001b[0msprites\u001b[0m\u001b[1;33m:\u001b[0m\u001b[1;33m\u001b[0m\u001b[1;33m\u001b[0m\u001b[0m\n\u001b[1;32m--> 476\u001b[1;33m             \u001b[0mself\u001b[0m\u001b[1;33m.\u001b[0m\u001b[0mspritedict\u001b[0m\u001b[1;33m[\u001b[0m\u001b[0mspr\u001b[0m\u001b[1;33m]\u001b[0m \u001b[1;33m=\u001b[0m \u001b[0msurface_blit\u001b[0m\u001b[1;33m(\u001b[0m\u001b[0mspr\u001b[0m\u001b[1;33m.\u001b[0m\u001b[0mimage\u001b[0m\u001b[1;33m,\u001b[0m \u001b[0mspr\u001b[0m\u001b[1;33m.\u001b[0m\u001b[0mrect\u001b[0m\u001b[1;33m)\u001b[0m\u001b[1;33m\u001b[0m\u001b[1;33m\u001b[0m\u001b[0m\n\u001b[0m\u001b[0;32m    477\u001b[0m         \u001b[0mself\u001b[0m\u001b[1;33m.\u001b[0m\u001b[0mlostsprites\u001b[0m \u001b[1;33m=\u001b[0m \u001b[1;33m[\u001b[0m\u001b[1;33m]\u001b[0m\u001b[1;33m\u001b[0m\u001b[1;33m\u001b[0m\u001b[0m\n\u001b[0;32m    478\u001b[0m \u001b[1;33m\u001b[0m\u001b[0m\n",
      "\u001b[1;31merror\u001b[0m: display Surface quit"
     ]
    }
   ],
   "source": [
    "import pygame, random\n",
    "from pygame.locals import *\n",
    "\n",
    "SCREEN_WIDTH = 800\n",
    "SCREEN_HEIGHT = 600\n",
    "GAME_SPEED = 10\n",
    "\n",
    "class Pok(pygame.sprite.Sprite):\n",
    "\n",
    "    def __init__(self):\n",
    "        pygame.sprite.Sprite.__init__(self)\n",
    "\n",
    "        self.images = [pygame.image.load('Pikachu 1.png').convert_alpha(),\n",
    "                       pygame.image.load('Pikachu 2.png').convert_alpha(),\n",
    "                       pygame.image.load('Pikachu 3.png').convert_alpha(),\n",
    "                       pygame.image.load('Pikachu 4.png').convert_alpha()]\n",
    "\n",
    "        self.current_image = 0\n",
    "\n",
    "        self.image = pygame.image.load('Pikachu 1.png').convert_alpha()\n",
    "        self.mask = pygame.mask.from_surface(self.image)\n",
    "\n",
    "        self.rect = self.image.get_rect()\n",
    "        self.rect[0] = SCREEN_WIDTH / 4\n",
    "        self.rect[1] = SCREEN_HEIGHT / 4\n",
    "\n",
    "    def update(self):\n",
    "        self.current_image = (self.current_image + 1) % 4\n",
    "        self.image = self.images[ self.current_image ]\n",
    "\n",
    "class Ground(pygame.sprite.Sprite):\n",
    "    def __init__(self, xpos):\n",
    "        pygame.sprite.Sprite.__init__(self)\n",
    "\n",
    "        self.image = pygame.image.load('battleback6.png').convert_alpha()\n",
    "        self.image = pygame.transform.scale(self.image, (SCREEN_WIDTH, SCREEN_HEIGHT))\n",
    "        self.mask = pygame.mask.from_surface(self.image)\n",
    "        self.rect = self.image.get_rect()\n",
    "        self.rect[0] = xpos\n",
    "    \n",
    "    def update(self):\n",
    "        self.rect[0] -= GAME_SPEED\n",
    "        \n",
    "def is_off_screen(sprite):\n",
    "    return sprite.rect[0] < -(sprite.rect[2])\n",
    "\n",
    "pygame.init()\n",
    "screen = pygame.display.set_mode((SCREEN_WIDTH, SCREEN_HEIGHT))\n",
    "\n",
    "bird_group = pygame.sprite.Group()\n",
    "bird = Pok()\n",
    "bird_group.add(bird)\n",
    "\n",
    "ground_group = pygame.sprite.Group()\n",
    "\n",
    "for i in range(10):\n",
    "    ground = Ground(SCREEN_WIDTH * i)\n",
    "    ground_group.add(ground)\n",
    "\n",
    "clock = pygame.time.Clock()\n",
    "\n",
    "while True:\n",
    "    clock.tick(30)\n",
    "    for event in pygame.event.get():\n",
    "        if event.type == QUIT:\n",
    "            pygame.quit()\n",
    "            \n",
    "    if is_off_screen(ground_group.sprites()[0]):\n",
    "        \n",
    "        ground_group.remove(ground_group.sprites()[0])\n",
    "        new_ground = Ground(SCREEN_WIDTH)\n",
    "        ground_group.add(new_ground)\n",
    "  \n",
    "    ground_group.update()\n",
    "    bird_group.update()\n",
    "    \n",
    "    ground_group.draw(screen)\n",
    "    bird_group.draw(screen)\n",
    "    \n",
    "    pygame.display.update()\n",
    "\n"
   ]
  },
  {
   "cell_type": "code",
   "execution_count": null,
   "metadata": {},
   "outputs": [],
   "source": []
  }
 ],
 "metadata": {
  "kernelspec": {
   "display_name": "Python 3",
   "language": "python",
   "name": "python3"
  },
  "language_info": {
   "codemirror_mode": {
    "name": "ipython",
    "version": 3
   },
   "file_extension": ".py",
   "mimetype": "text/x-python",
   "name": "python",
   "nbconvert_exporter": "python",
   "pygments_lexer": "ipython3",
   "version": "3.7.6"
  }
 },
 "nbformat": 4,
 "nbformat_minor": 4
}

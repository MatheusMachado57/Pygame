{
 "cells": [
  {
   "cell_type": "code",
   "execution_count": 2,
   "metadata": {},
   "outputs": [
    {
     "name": "stdout",
     "output_type": "stream",
     "text": [
      "Em um futuro distópico a humanidade parece ter se altodestruído.\n",
      "Você vive em um grande centro urbano, hoje abandonado e sucateado.\n",
      "Você é humano ou robô?(1 ou 2)\n",
      "1\n",
      "Você é garoto ou garota?\n",
      "2\n",
      "Humano Garota\n",
      "Do you want to play again? (yes or no)\n",
      "no\n"
     ]
    }
   ],
   "source": [
    "import random\n",
    "import time\n",
    "\n",
    "def displayIntro():\n",
    "    print(\"Em um futuro distópico a humanidade parece ter se altodestruído.\")\n",
    "    time.sleep(1)\n",
    "    print(\"Você vive em um grande centro urbano, hoje abandonado e sucateado.\")\n",
    "    time.sleep(1)\n",
    "\n",
    "def chooseCave():\n",
    "    espécie = \"\"\n",
    "    sexo = \"\"\n",
    "    while espécie != \"1\" and espécie != \"2\":\n",
    "            print(\"Você é humano ou robô?(1 ou 2)\")\n",
    "            espécie = input()\n",
    "            \n",
    "    if espécie == \"1\":\n",
    "        while sexo != \"1\" and sexo != \"2\":\n",
    "            print(\"Você é garoto ou garota?\")\n",
    "            sexo = input()\n",
    "            \n",
    "    if espécie == \"1\": \n",
    "        if sexo == \"1\": print(\"Humano\", \"Gatoro\")\n",
    "        else: print(\"Humano\", \"Garota\")\n",
    "    else: print(\"Robo\")\n",
    "            \n",
    "def checkCave(chosenCave):\n",
    "    print(\"You approach the cave...\")\n",
    "    time.sleep(2)\n",
    "    print(\"It is dark and spooky...\")\n",
    "    time.sleep(2)\n",
    "    print(\"A large dragon jumps out in front of you! He opens his jaws and...\")\n",
    "    print()\n",
    "    time.sleep(2)\n",
    "\n",
    "    friendlyCave = random.randint(1, 2)\n",
    "\n",
    "    if chosenCave == str(friendlyCave):\n",
    "        print(\"Gives you his treasure!\")\n",
    "    else:\n",
    "        print(\"Gobbles you down in one bite!\")\n",
    "\n",
    "playAgain = \"yes\"\n",
    "while playAgain == \"yes\" or playAgain == \"y\":\n",
    "\n",
    "    displayIntro()   \n",
    "    caveNumber = chooseCave()\n",
    "    # checkCave(caveNumber)\n",
    "        \n",
    "    print(\"Do you want to play again? (yes or no)\")\n",
    "    playAgain = input()"
   ]
  },
  {
   "cell_type": "code",
   "execution_count": null,
   "metadata": {},
   "outputs": [],
   "source": []
  }
 ],
 "metadata": {
  "kernelspec": {
   "display_name": "Python 3",
   "language": "python",
   "name": "python3"
  },
  "language_info": {
   "codemirror_mode": {
    "name": "ipython",
    "version": 3
   },
   "file_extension": ".py",
   "mimetype": "text/x-python",
   "name": "python",
   "nbconvert_exporter": "python",
   "pygments_lexer": "ipython3",
   "version": "3.7.6"
  }
 },
 "nbformat": 4,
 "nbformat_minor": 4
}

{
 "cells": [
  {
   "cell_type": "code",
   "execution_count": 1,
   "metadata": {},
   "outputs": [
    {
     "name": "stdout",
     "output_type": "stream",
     "text": [
      "pygame 1.9.6\n",
      "Hello from the pygame community. https://www.pygame.org/contribute.html\n"
     ]
    },
    {
     "ename": "error",
     "evalue": "video system not initialized",
     "output_type": "error",
     "traceback": [
      "\u001b[1;31m---------------------------------------------------------------------------\u001b[0m",
      "\u001b[1;31merror\u001b[0m                                     Traceback (most recent call last)",
      "\u001b[1;32m<ipython-input-1-8f8b287bb7ff>\u001b[0m in \u001b[0;36m<module>\u001b[1;34m\u001b[0m\n\u001b[0;32m     70\u001b[0m \u001b[1;33m\u001b[0m\u001b[0m\n\u001b[0;32m     71\u001b[0m     \u001b[1;31m# movimentos do pikachu\u001b[0m\u001b[1;33m\u001b[0m\u001b[1;33m\u001b[0m\u001b[1;33m\u001b[0m\u001b[0m\n\u001b[1;32m---> 72\u001b[1;33m     \u001b[0mcomandos\u001b[0m \u001b[1;33m=\u001b[0m \u001b[0mpygame\u001b[0m\u001b[1;33m.\u001b[0m\u001b[0mkey\u001b[0m\u001b[1;33m.\u001b[0m\u001b[0mget_pressed\u001b[0m\u001b[1;33m(\u001b[0m\u001b[1;33m)\u001b[0m\u001b[1;33m\u001b[0m\u001b[1;33m\u001b[0m\u001b[0m\n\u001b[0m\u001b[0;32m     73\u001b[0m     \u001b[1;32mif\u001b[0m \u001b[0mcomandos\u001b[0m\u001b[1;33m[\u001b[0m\u001b[0mpygame\u001b[0m\u001b[1;33m.\u001b[0m\u001b[0mK_SPACE\u001b[0m\u001b[1;33m]\u001b[0m\u001b[1;33m:\u001b[0m \u001b[0mbird\u001b[0m\u001b[1;33m.\u001b[0m\u001b[0mjump\u001b[0m\u001b[1;33m(\u001b[0m\u001b[1;33m)\u001b[0m\u001b[1;33m\u001b[0m\u001b[1;33m\u001b[0m\u001b[0m\n\u001b[0;32m     74\u001b[0m     \u001b[1;32mif\u001b[0m \u001b[0mcomandos\u001b[0m\u001b[1;33m[\u001b[0m\u001b[0mpygame\u001b[0m\u001b[1;33m.\u001b[0m\u001b[0mK_RIGHT\u001b[0m\u001b[1;33m]\u001b[0m\u001b[1;33m:\u001b[0m \u001b[0mbird\u001b[0m\u001b[1;33m.\u001b[0m\u001b[0mgo_on\u001b[0m\u001b[1;33m(\u001b[0m\u001b[1;33m)\u001b[0m\u001b[1;33m\u001b[0m\u001b[1;33m\u001b[0m\u001b[0m\n",
      "\u001b[1;31merror\u001b[0m: video system not initialized"
     ]
    }
   ],
   "source": [
    "import pygame, random\n",
    "from pygame.locals import *\n",
    "\n",
    "SCREEN_WIDTH = 1000\n",
    "SCREEN_HEIGHT = 600\n",
    "\n",
    "GAME_SPEED = 10\n",
    "GRAVITY = 40\n",
    "SPEED = 1\n",
    "\n",
    "GROUND_WIDTH = SCREEN_WIDTH\n",
    "GROUND_HEIGHT = SCREEN_HEIGHT - 30\n",
    "\n",
    "End1 = SCREEN_WIDTH/2 + 100\n",
    "End2 = -300\n",
    "\n",
    "class Pik(pygame.sprite.Sprite):\n",
    "\n",
    "    def __init__(self):\n",
    "        pygame.sprite.Sprite.__init__(self)\n",
    "\n",
    "        self.images = [pygame.image.load('rato.png').convert_alpha()]\n",
    "\n",
    "        self.current_image = 0\n",
    "\n",
    "        self.image = pygame.image.load('rato.png').convert_alpha()\n",
    "        self.mask = pygame.mask.from_surface(self.image)\n",
    "\n",
    "        self.rect = self.image.get_rect()\n",
    "        self.rect[0] = SCREEN_WIDTH / 2 - 200\n",
    "        self.rect[1] = GROUND_HEIGHT - 250\n",
    "\n",
    "    def update(self):\n",
    "        self.image = self.images[ self.current_image ]\n",
    "\n",
    "        # Update height\n",
    "        if self.rect[1] < GROUND_HEIGHT - 250: self.rect[1] += GRAVITY\n",
    "        \n",
    "    def jump(self): \n",
    "        if self.rect[1] >= GROUND_HEIGHT - 250: \n",
    "            self.rect[1] -= 200\n",
    "            self.rect[0] += 100\n",
    "            \n",
    "    def go_on(self): \n",
    "        if self.rect[0] < 700: self.rect[0] += 30\n",
    "    \n",
    "    def go_back(self): \n",
    "        if self.rect[0] > 0: self.rect[0] -= 30\n",
    "        \n",
    "def is_off_screen(sprite): return sprite.rect[0] < -(sprite.rect[2])\n",
    "\n",
    "pygame.init()\n",
    "screen = pygame.display.set_mode((SCREEN_WIDTH, SCREEN_HEIGHT))\n",
    "\n",
    "bird_group = pygame.sprite.Group()\n",
    "bird = Pik()\n",
    "bird_group.add(bird)\n",
    "\n",
    "BACKGROUND = pygame.image.load('battleback1-2.png')\n",
    "BACKGROUND = pygame.transform.scale(BACKGROUND, (SCREEN_WIDTH, SCREEN_HEIGHT))\n",
    "\n",
    "clock = pygame.time.Clock()    \n",
    "\n",
    "while True:\n",
    "    clock.tick(10)\n",
    "    \n",
    "    for event in pygame.event.get():\n",
    "        if event.type == QUIT:\n",
    "            pygame.quit()\n",
    "            \n",
    "    # movimentos do pikachu\n",
    "    comandos = pygame.key.get_pressed()\n",
    "    if comandos[pygame.K_SPACE]: bird.jump()\n",
    "    if comandos[pygame.K_RIGHT]: bird.go_on()\n",
    "    if comandos[pygame.K_LEFT]: bird.go_back()    \n",
    "    \n",
    "    screen.blit(BACKGROUND, (0, 0))\n",
    "  \n",
    "    bird_group.update()\n",
    "    bird_group.draw(screen)\n",
    "    \n",
    "    pygame.display.update()\n"
   ]
  },
  {
   "cell_type": "code",
   "execution_count": null,
   "metadata": {},
   "outputs": [],
   "source": []
  }
 ],
 "metadata": {
  "kernelspec": {
   "display_name": "Python 3",
   "language": "python",
   "name": "python3"
  },
  "language_info": {
   "codemirror_mode": {
    "name": "ipython",
    "version": 3
   },
   "file_extension": ".py",
   "mimetype": "text/x-python",
   "name": "python",
   "nbconvert_exporter": "python",
   "pygments_lexer": "ipython3",
   "version": "3.7.6"
  }
 },
 "nbformat": 4,
 "nbformat_minor": 4
}
